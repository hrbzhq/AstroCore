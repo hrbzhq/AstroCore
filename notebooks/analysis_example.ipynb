{
 "cells": [
  {
   "cell_type": "markdown",
   "id": "216298e4",
   "metadata": {},
   "source": [
    "# Analysis example\n",
    "\n",
    "这个 notebook 是一个占位文件，用来展示如何加载 `read01.txt`，运行解析器，并可视化可能的 MRS/EEG 指标（需要后续填充真实数据和分析代码）。"
   ]
  },
  {
   "cell_type": "code",
   "execution_count": null,
   "id": "8b67571a",
   "metadata": {},
   "outputs": [],
   "source": [
    "# 安装依赖（如未安装，请在终端运行）\n",
    "# pip install numpy matplotlib scipy pandas\n",
    "\n",
    "import numpy as np\n",
    "import pandas as pd\n",
    "import matplotlib.pyplot as plt\n",
    "from scipy import signal\n",
    "\n",
    "plt.rcParams['figure.figsize'] = (10, 4)\n"
   ]
  },
  {
   "cell_type": "code",
   "execution_count": null,
   "id": "0a8c8095",
   "metadata": {},
   "outputs": [],
   "source": [
    "# 读取 MRS 示例 CSV\n",
    "from pathlib import Path\n",
    "root = Path(__file__).resolve().parents[2] if '__file__' in globals() else Path('e:/tools/begin/AstroCore')\n",
    "df = pd.read_csv(root / 'data' / 'mrs_sample.csv')\n",
    "df.head()\n"
   ]
  },
  {
   "cell_type": "code",
   "execution_count": null,
   "id": "54d30f42",
   "metadata": {},
   "outputs": [],
   "source": [
    "# 绘制 MRS 指标随时间变化（不同脑区）\n",
    "fig, axes = plt.subplots(1, 3, figsize=(15,4), sharex=True)\n",
    "for i, col in enumerate(['glucose', 'lactate', 'ketone']):\n",
    "    for region, g in df.groupby('region'):\n",
    "        axes[i].plot(g['time_min'], g[col], marker='o', label=region)\n",
    "    axes[i].set_title(col)\n",
    "    axes[i].set_xlabel('time (min)')\n",
    "    axes[i].legend()\n",
    "plt.tight_layout()\n",
    "plt.show()\n"
   ]
  },
  {
   "cell_type": "markdown",
   "id": "ed624a85",
   "metadata": {},
   "source": [
    "## 模拟 EEG 信号（时域与功率谱）\n",
    "\n",
    "接下来我们生成一个 10 秒钟、采样率 1000 Hz 的模拟 EEG：基线为 1/f 颜色噪声，并在中间时段注入 40 Hz 的伽马增强成分。\n"
   ]
  },
  {
   "cell_type": "code",
   "execution_count": null,
   "id": "057e1f0a",
   "metadata": {},
   "outputs": [],
   "source": [
    "fs = 1000  # sampling rate\n",
    "t = np.arange(0, 10, 1/fs)\n",
    "# 生成 1/f 噪声（简单方法)\n",
    "def pink_noise(n):\n",
    "    # generate white noise and filter in frequency domain to approximate 1/f\n",
    "    wn = np.random.randn(n)\n",
    "    f = np.fft.rfftfreq(n, 1/fs)\n",
    "    S = np.where(f==0, 0, 1/np.sqrt(f))\n",
    "    W = np.fft.rfft(wn) * S\n",
    "    return np.fft.irfft(W, n)\n",
    "\n",
    "eeg = pink_noise(len(t)) * 20e-6  # scale to microvolts-ish\n",
    "# 在 3-7 秒之间注入 40Hz 成分\n",
    "mask = (t >= 3) & (t <= 7)\n",
    "eeg[mask] += 5e-6 * np.sin(2 * np.pi * 40 * t[mask])\n",
    "\n",
    "# 绘制时域片段\n",
    "plt.figure(figsize=(12,3))\n",
    "plt.plot(t[0:2000], eeg[0:2000])\n",
    "plt.title('Simulated EEG (first 2 seconds)')\n",
    "plt.xlabel('Time (s)')\n",
    "plt.ylabel('Amplitude (V)')\n",
    "plt.show()\n",
    "\n",
    "# 计算并绘制功率谱密度（Welch）\n",
    "f, Pxx = signal.welch(eeg, fs=fs, nperseg=2048)\n",
    "plt.figure(figsize=(8,4))\n",
    "plt.semilogy(f, Pxx)\n",
    "plt.xlim(0,100)\n",
    "plt.title('EEG Power Spectral Density (Welch)')\n",
    "plt.xlabel('Frequency (Hz)')\n",
    "plt.ylabel('PSD')\n",
    "plt.show()\n"
   ]
  },
  {
   "cell_type": "markdown",
   "id": "91ea6430",
   "metadata": {},
   "source": [
    "## 如何替换为真实数据\n",
    "\n",
    "- 若有真实 MRS CSV，请用相同列名（region,time_min,glucose,lactate,ketone）替换 `data/mrs_sample.csv`。\n",
    "- 若有真实 EEG（例如 EDF 或 FIF），建议使用 MNE-Python 载入并代替本 notebook 的模拟段（我可以帮你编写加载示例）。\n"
   ]
  }
 ],
 "metadata": {
  "language_info": {
   "name": "python"
  }
 },
 "nbformat": 4,
 "nbformat_minor": 5
}
