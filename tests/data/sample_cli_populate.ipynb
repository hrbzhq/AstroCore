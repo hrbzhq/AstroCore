{
  "cells": [
    {
      "cell_type": "markdown",
      "metadata": {
        "language": "markdown"
      },
      "source": [
        "# A Sample Paper Title\n"
      ]
    },
    {
      "cell_type": "markdown",
      "metadata": {
        "language": "markdown"
      },
      "source": [
        "## Abstract\n",
        "This paper demonstrates a simple pipeline for analyzing sample signals."
      ]
    },
    {
      "cell_type": "markdown",
      "metadata": {
        "language": "markdown"
      },
      "source": [
        "## Introduction\n",
        "We describe the problem and related work."
      ]
    },
    {
      "cell_type": "markdown",
      "metadata": {
        "language": "markdown"
      },
      "source": [
        "## Methods\n",
        "We collected simulated EEG and computed power spectral density using Welch's method."
      ]
    },
    {
      "cell_type": "markdown",
      "metadata": {
        "language": "markdown"
      },
      "source": [
        "## Results\n",
        "Power at 40 Hz increased during stimulation."
      ]
    },
    {
      "cell_type": "markdown",
      "metadata": {
        "language": "markdown"
      },
      "source": [
        "## Discussion\n",
        "This simple demonstration shows reproducibility patterns."
      ]
    },
    {
      "cell_type": "markdown",
      "metadata": {
        "language": "markdown"
      },
      "source": [
        "## References\n",
        "[]"
      ]
    },
    {
      "cell_type": "code",
      "metadata": {
        "language": "python"
      },
      "source": [
        "# Auto-generated Welch PSD example",
        "import numpy as np",
        "from scipy import signal",
        "import matplotlib.pyplot as plt",
        "",
        "# Load your timeseries into `data` (1D numpy array) and sampling rate `fs`",
        "# data = np.loadtxt('path/to/data.csv')  # example placeholder",
        "# fs = 1000  # sampling rate (Hz)",
        "",
        "f, Pxx = signal.welch(data, fs=fs, nperseg=1024, window='hann')",
        "plt.semilogy(f, Pxx)",
        "plt.xlim(0, 100)",
        "plt.xlabel('Frequency (Hz)')",
        "plt.ylabel('PSD')",
        "plt.show()"
      ]
    }
  ],
  "metadata": {
    "kernelspec": {
      "display_name": "Python 3",
      "language": "python",
      "name": "python3"
    },
    "language_info": {
      "name": "python",
      "version": "3.11"
    }
  },
  "nbformat": 4,
  "nbformat_minor": 5
}